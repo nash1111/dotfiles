{
 "cells": [
  {
   "cell_type": "markdown",
   "metadata": {},
   "source": [
    "# WebIO IJulia Demo\n",
    "\n",
    "This notebook demonstrates the usage of WebIO.jl inside Jupyter notebooks. All of the examples are taken directly from the [WebIO README](https://github.com/JuliaGizmos/WebIO.jl/blob/master/README.md), so feel free to check out the README for additional details. "
   ]
  },
  {
   "cell_type": "code",
   "execution_count": null,
   "metadata": {},
   "outputs": [],
   "source": [
    "using WebIO\n",
    "using JSExpr: @js, @new, @var"
   ]
  },
  {
   "cell_type": "markdown",
   "metadata": {},
   "source": [
    "# Getting things to display\n",
    "\n",
    "Whenever a code cell returns a WebIO.Node object, IJulia will render it. For example,"
   ]
  },
  {
   "cell_type": "code",
   "execution_count": null,
   "metadata": {},
   "outputs": [],
   "source": [
    "node(:div, \"Hello, World\")"
   ]
  },
  {
   "cell_type": "markdown",
   "metadata": {},
   "source": [
    "# Composing content\n",
    "\n",
    "Let's say you want to display the following HTML:\n",
    "\n",
    "```html\n",
    "<ul class=\"my-list\">\n",
    "    <li>get milk</li>\n",
    "    <li>make a pie</li>\n",
    "</ul>\n",
    "```\n",
    "\n",
    "You can create a nested Node object:"
   ]
  },
  {
   "cell_type": "code",
   "execution_count": null,
   "metadata": {},
   "outputs": [],
   "source": [
    "node(:ul,\n",
    "    node(:li, \"get milk\"),\n",
    "    node(:li, \"make a pie\"), attributes=Dict(:class => \"my-list\"))"
   ]
  },
  {
   "cell_type": "markdown",
   "metadata": {},
   "source": [
    "# Loading JavaScript dependencies\n",
    "\n",
    "You can load dependencies by creating a Scope object and passing in `imports` argument."
   ]
  },
  {
   "cell_type": "code",
   "execution_count": null,
   "metadata": {
    "scrolled": false
   },
   "outputs": [],
   "source": [
    "w = Scope(imports=[\"//cdnjs.cloudflare.com/ajax/libs/p5.js/0.5.11/p5.js\"])\n",
    "\n",
    "onimport(w, @js function (p5)\n",
    "    function sketch(s)\n",
    "        s.setup = () -> s.createCanvas(640, 480)\n",
    "\n",
    "        s.draw = function ()\n",
    "          if s.mouseIsPressed\n",
    "            s.fill(0)\n",
    "          else\n",
    "            s.fill(255)\n",
    "          end\n",
    "          s.ellipse(s.mouseX, s.mouseY, 80, 80)\n",
    "        end\n",
    "    end\n",
    "    @new p5(sketch, this.dom.querySelector(\"#container\"))\n",
    "end)\n",
    "\n",
    "n = w(dom\"div#container\"())"
   ]
  },
  {
   "cell_type": "markdown",
   "metadata": {},
   "source": [
    "# Sending values from JavaScript to Julia\n",
    "\n",
    "Below is a scope which communicates with Julia. The following scope contains a button which sends a random number, generated in JavaScript, to Julia. We will print this number on the Julia side."
   ]
  },
  {
   "cell_type": "code",
   "execution_count": null,
   "metadata": {},
   "outputs": [],
   "source": [
    "function random_print_button()\n",
    "    w = Scope()\n",
    "\n",
    "    obs = Observable(w, \"rand-value\", 0.0)\n",
    "\n",
    "    on(obs) do x\n",
    "        println(\"JS sent $x\")\n",
    "    end\n",
    "\n",
    "    w(\n",
    "      dom\"button\"(\n",
    "        \"generate random\",\n",
    "        events=Dict(\"click\"=>@js () -> $obs[] = Math.random()),\n",
    "      ),\n",
    "    )\n",
    "end"
   ]
  },
  {
   "cell_type": "code",
   "execution_count": null,
   "metadata": {},
   "outputs": [],
   "source": [
    "random_print_button()"
   ]
  },
  {
   "cell_type": "markdown",
   "metadata": {},
   "source": [
    "## iframe encapsulation\n",
    "\n",
    "We can also encapsulate a scope inside an `<iframe>`, which isolates it from the containing page's styling and layout: "
   ]
  },
  {
   "cell_type": "code",
   "execution_count": null,
   "metadata": {},
   "outputs": [],
   "source": [
    "iframe(random_print_button())"
   ]
  },
  {
   "cell_type": "markdown",
   "metadata": {},
   "source": [
    "# Sending values from Julia to JavaScript\n",
    "\n",
    "Here's a clock where the time is formatted and updated every second from Julia. We use the onjs handler and mutate the #clock DOM element to acheive this."
   ]
  },
  {
   "cell_type": "code",
   "execution_count": null,
   "metadata": {},
   "outputs": [],
   "source": [
    "using Dates\n",
    "w = Scope()\n",
    "obs = Observable(w, \"clock-value\", \"\")\n",
    "\n",
    "timestr() = Dates.format(now(), \"HH:MM:SS\")\n",
    "\n",
    "# update timestamp every second\n",
    "@async while true\n",
    "    sleep(1)\n",
    "    obs[] = timestr()\n",
    "end\n",
    "\n",
    "# on every update to `obs`, replace the text content of #clock\n",
    "onjs(obs, @js val -> begin\n",
    "    @var clock = this.dom.querySelector(\"#clock\")\n",
    "    clock.textContent = val\n",
    "end)\n",
    "\n",
    "w(\n",
    "  dom\"div#clock\"(\n",
    "    timestr(),\n",
    "  ),\n",
    ")"
   ]
  },
  {
   "cell_type": "markdown",
   "metadata": {},
   "source": [
    "For an even easier way to send values from Julia to JavaScript, we can simply rely on the fact that WebIO knows how to render `Observable`s directly to HTML. In this case WebIO will automatically construct a `Scope` and insert the relevant JavaScript to update the rendered content whenever the `Observable` changes value:"
   ]
  },
  {
   "cell_type": "code",
   "execution_count": null,
   "metadata": {},
   "outputs": [],
   "source": [
    "clock_obs = Observable(timestr())\n",
    "@async while true\n",
    "    sleep(1)\n",
    "    clock_obs[] = timestr()\n",
    "end\n",
    "clock_obs"
   ]
  }
 ],
 "metadata": {
  "kernelspec": {
   "display_name": "Julia 0.7.0",
   "language": "julia",
   "name": "julia-0.7"
  },
  "language_info": {
   "file_extension": ".jl",
   "mimetype": "application/julia",
   "name": "julia",
   "version": "0.7.0"
  }
 },
 "nbformat": 4,
 "nbformat_minor": 2
}
